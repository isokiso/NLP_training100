{
 "cells": [
  {
   "cell_type": "markdown",
   "metadata": {},
   "source": [
    "各行を3コラム目の数値の逆順で整列せよ（注意: 各行の内容は変更せずに並び替えよ）．  \n",
    "確認にはsortコマンドを用いよ（この問題はコマンドで実行した時の結果と合わなくてもよい）．"
   ]
  },
  {
   "cell_type": "code",
   "execution_count": 2,
   "metadata": {},
   "outputs": [
    {
     "name": "stdout",
     "output_type": "stream",
     "text": [
      "高知県\t江川崎\t41\t2013-08-12\n",
      "埼玉県\t熊谷\t40.9\t2007-08-16\n",
      "岐阜県\t多治見\t40.9\t2007-08-16\n",
      "山形県\t山形\t40.8\t1933-07-25\n",
      "山梨県\t甲府\t40.7\t2013-08-10\n",
      "和歌山県\tかつらぎ\t40.6\t1994-08-08\n",
      "静岡県\t天竜\t40.6\t1994-08-04\n",
      "山梨県\t勝沼\t40.5\t2013-08-10\n",
      "埼玉県\t越谷\t40.4\t2007-08-16\n",
      "群馬県\t館林\t40.3\t2007-08-16\n",
      "群馬県\t上里見\t40.3\t1998-07-04\n",
      "愛知県\t愛西\t40.3\t1994-08-05\n",
      "千葉県\t牛久\t40.2\t2004-07-20\n",
      "静岡県\t佐久間\t40.2\t2001-07-24\n",
      "愛媛県\t宇和島\t40.2\t1927-07-22\n",
      "山形県\t酒田\t40.1\t1978-08-03\n",
      "岐阜県\t美濃\t40\t2007-08-16\n",
      "群馬県\t前橋\t40\t2001-07-24\n",
      "千葉県\t茂原\t39.9\t2013-08-11\n",
      "埼玉県\t鳩山\t39.9\t1997-07-05\n",
      "大阪府\t豊中\t39.9\t1994-08-08\n",
      "山梨県\t大月\t39.9\t1990-07-19\n",
      "山形県\t鶴岡\t39.9\t1978-08-03\n",
      "愛知県\t名古屋\t39.9\t1942-08-02\n"
     ]
    }
   ],
   "source": [
    "# -*- coding: utf-8 -*-\n",
    "import os\n",
    "import sys\n",
    "from operator import itemgetter\n",
    " \n",
    "\n",
    "def open_as2dlist(file):\n",
    "    data = []\n",
    "    try:\n",
    "        f = open(file, 'r', encoding='utf-8')\n",
    "    except Exception:\n",
    "        print(\"open error. not found file:\", str(file))\n",
    "        sys.exit(1)\n",
    "    for line in f:\n",
    "        line = line.strip() #前後空白削除\n",
    "        line = line.replace('\\n','') #末尾の\\nの削除\n",
    "        line = line.split(\"\\t\") #分割\n",
    "        data.append(line)\n",
    "    f.close()\n",
    "    return data\n",
    "\n",
    "src = open_as2dlist('hightemp.txt')\n",
    "sort1 = sorted(src, key=itemgetter(2),reverse=True)\n",
    "\n",
    "for i in sort1:\n",
    "    line = '\\t'.join(i)\n",
    "    print(line)\n",
    "\n"
   ]
  },
  {
   "cell_type": "code",
   "execution_count": 3,
   "metadata": {},
   "outputs": [
    {
     "name": "stdout",
     "output_type": "stream",
     "text": [
      "高知県\t江川崎\t41\t2013-08-12\r\n",
      "岐阜県\t多治見\t40.9\t2007-08-16\r\n",
      "埼玉県\t熊谷\t40.9\t2007-08-16\r\n",
      "山形県\t山形\t40.8\t1933-07-25\r\n",
      "山梨県\t甲府\t40.7\t2013-08-10\r\n",
      "和歌山県\tかつらぎ\t40.6\t1994-08-08\r\n",
      "静岡県\t天竜\t40.6\t1994-08-04\r\n",
      "山梨県\t勝沼\t40.5\t2013-08-10\r\n",
      "埼玉県\t越谷\t40.4\t2007-08-16\r\n",
      "群馬県\t上里見\t40.3\t1998-07-04\r\n",
      "群馬県\t館林\t40.3\t2007-08-16\r\n",
      "愛知県\t愛西\t40.3\t1994-08-05\r\n",
      "静岡県\t佐久間\t40.2\t2001-07-24\r\n",
      "愛媛県\t宇和島\t40.2\t1927-07-22\r\n",
      "千葉県\t牛久\t40.2\t2004-07-20\r\n",
      "山形県\t酒田\t40.1\t1978-08-03\r\n",
      "岐阜県\t美濃\t40\t2007-08-16\r\n",
      "群馬県\t前橋\t40\t2001-07-24\r\n",
      "愛知県\t名古屋\t39.9\t1942-08-02\r\n",
      "千葉県\t茂原\t39.9\t2013-08-11\r\n",
      "埼玉県\t鳩山\t39.9\t1997-07-05\r\n",
      "大阪府\t豊中\t39.9\t1994-08-08\r\n",
      "山梨県\t大月\t39.9\t1990-07-19\r\n",
      "山形県\t鶴岡\t39.9\t1978-08-03\r\n"
     ]
    }
   ],
   "source": [
    "!sort hightemp.txt --key=3,3 --numeric-sort --reverse"
   ]
  },
  {
   "cell_type": "code",
   "execution_count": null,
   "metadata": {
    "collapsed": true
   },
   "outputs": [],
   "source": []
  }
 ],
 "metadata": {
  "kernelspec": {
   "display_name": "Python 3",
   "language": "python",
   "name": "python3"
  },
  "language_info": {
   "codemirror_mode": {
    "name": "ipython",
    "version": 3
   },
   "file_extension": ".py",
   "mimetype": "text/x-python",
   "name": "python",
   "nbconvert_exporter": "python",
   "pygments_lexer": "ipython3",
   "version": "3.6.5"
  }
 },
 "nbformat": 4,
 "nbformat_minor": 2
}

{
 "cells": [
  {
   "cell_type": "markdown",
   "metadata": {},
   "source": [
    "12で作ったcol1.txtとcol2.txtを結合し，元のファイルの1列目と2列目をタブ区切りで並べたテキストファイルを作成せよ．  \n",
    "確認にはpasteコマンドを用いよ．"
   ]
  },
  {
   "cell_type": "code",
   "execution_count": 1,
   "metadata": {
    "collapsed": true
   },
   "outputs": [],
   "source": [
    "#!/usr/bin/python\n",
    "# coding: UTF-8\n",
    "import os"
   ]
  },
  {
   "cell_type": "code",
   "execution_count": 2,
   "metadata": {},
   "outputs": [],
   "source": [
    "f1 = open('col1.txt','r')\n",
    "src1 = f1.read()\n",
    "f1.close()\n",
    "f2 = open('col2.txt','r')\n",
    "src2 = f2.read()\n",
    "f2.close()\n"
   ]
  },
  {
   "cell_type": "code",
   "execution_count": 3,
   "metadata": {
    "collapsed": true
   },
   "outputs": [],
   "source": [
    "src1 = src1.split('\\n')\n",
    "src2 = src2.split('\\n')"
   ]
  },
  {
   "cell_type": "code",
   "execution_count": 4,
   "metadata": {
    "collapsed": true
   },
   "outputs": [],
   "source": [
    "f = open('merge.txt','w')\n",
    "for i in range(len(src1)-1):\n",
    "    f.write(src1[i] + '\\t' +src2[i] + '\\n')\n",
    "f.close()\n"
   ]
  },
  {
   "cell_type": "code",
   "execution_count": 5,
   "metadata": {},
   "outputs": [
    {
     "name": "stdout",
     "output_type": "stream",
     "text": [
      "高知県\t江川崎\r\n",
      "埼玉県\t熊谷\r\n",
      "岐阜県\t多治見\r\n",
      "山形県\t山形\r\n",
      "山梨県\t甲府\r\n",
      "和歌山県\tかつらぎ\r\n",
      "静岡県\t天竜\r\n",
      "山梨県\t勝沼\r\n",
      "埼玉県\t越谷\r\n",
      "群馬県\t館林\r\n",
      "群馬県\t上里見\r\n",
      "愛知県\t愛西\r\n",
      "千葉県\t牛久\r\n",
      "静岡県\t佐久間\r\n",
      "愛媛県\t宇和島\r\n",
      "山形県\t酒田\r\n",
      "岐阜県\t美濃\r\n",
      "群馬県\t前橋\r\n",
      "千葉県\t茂原\r\n",
      "埼玉県\t鳩山\r\n",
      "大阪府\t豊中\r\n",
      "山梨県\t大月\r\n",
      "山形県\t鶴岡\r\n",
      "愛知県\t名古屋\r\n"
     ]
    }
   ],
   "source": [
    "!cat merge.txt"
   ]
  },
  {
   "cell_type": "code",
   "execution_count": 6,
   "metadata": {},
   "outputs": [
    {
     "name": "stdout",
     "output_type": "stream",
     "text": [
      "高知県\t江川崎\r\n",
      "埼玉県\t熊谷\r\n",
      "岐阜県\t多治見\r\n",
      "山形県\t山形\r\n",
      "山梨県\t甲府\r\n",
      "和歌山県\tかつらぎ\r\n",
      "静岡県\t天竜\r\n",
      "山梨県\t勝沼\r\n",
      "埼玉県\t越谷\r\n",
      "群馬県\t館林\r\n",
      "群馬県\t上里見\r\n",
      "愛知県\t愛西\r\n",
      "千葉県\t牛久\r\n",
      "静岡県\t佐久間\r\n",
      "愛媛県\t宇和島\r\n",
      "山形県\t酒田\r\n",
      "岐阜県\t美濃\r\n",
      "群馬県\t前橋\r\n",
      "千葉県\t茂原\r\n",
      "埼玉県\t鳩山\r\n",
      "大阪府\t豊中\r\n",
      "山梨県\t大月\r\n",
      "山形県\t鶴岡\r\n",
      "愛知県\t名古屋\r\n"
     ]
    }
   ],
   "source": [
    "!paste col1.txt col2.txt"
   ]
  },
  {
   "cell_type": "code",
   "execution_count": null,
   "metadata": {
    "collapsed": true
   },
   "outputs": [],
   "source": []
  }
 ],
 "metadata": {
  "kernelspec": {
   "display_name": "Python 3",
   "language": "python",
   "name": "python3"
  },
  "language_info": {
   "codemirror_mode": {
    "name": "ipython",
    "version": 3
   },
   "file_extension": ".py",
   "mimetype": "text/x-python",
   "name": "python",
   "nbconvert_exporter": "python",
   "pygments_lexer": "ipython3",
   "version": "3.6.5"
  }
 },
 "nbformat": 4,
 "nbformat_minor": 2
}

{
 "cells": [
  {
   "cell_type": "markdown",
   "metadata": {},
   "source": [
    "自然数Nをコマンドライン引数などの手段で受け取り，入力のファイルを行単位でN分割せよ．同様の処理をsplitコマンドで実現せよ．"
   ]
  },
  {
   "cell_type": "code",
   "execution_count": 1,
   "metadata": {
    "collapsed": true
   },
   "outputs": [],
   "source": [
    "%%bash\n",
    "\n",
    "echo \"\n",
    "# -*- coding: utf-8 -*-\n",
    "import os\n",
    "import sys\n",
    "\n",
    "if(__name__ == '__main__'):\n",
    "    args = sys.argv\n",
    "    N = int(args[1])\n",
    "    f = open('hightemp.txt')\n",
    "    lines = f.readlines()\n",
    "    lines_num = len(lines)\n",
    "    f.close()\n",
    "    sec = lines_num/N\n",
    "    if lines_num % N != 0:\n",
    "        sec+=1\n",
    "    \n",
    "    for i in range(N):\n",
    "        f = open('test16_'+str(i)+'.txt','w')\n",
    "        for j in range(sec):\n",
    "            if N*i+j < lines_num:\n",
    "                f.write(lines[N*i+j])\n",
    "        f.close()\n",
    "    \n",
    "\" > test16.py"
   ]
  },
  {
   "cell_type": "code",
   "execution_count": 2,
   "metadata": {},
   "outputs": [],
   "source": [
    "!python test16.py 5"
   ]
  },
  {
   "cell_type": "code",
   "execution_count": 3,
   "metadata": {},
   "outputs": [
    {
     "name": "stdout",
     "output_type": "stream",
     "text": [
      "大阪府\t豊中\t39.9\t1994-08-08\r\n",
      "山梨県\t大月\t39.9\t1990-07-19\r\n",
      "山形県\t鶴岡\t39.9\t1978-08-03\r\n",
      "愛知県\t名古屋\t39.9\t1942-08-02\r\n"
     ]
    }
   ],
   "source": [
    "!cat test16_4.txt"
   ]
  },
  {
   "cell_type": "code",
   "execution_count": 4,
   "metadata": {},
   "outputs": [],
   "source": [
    "%%bash\n",
    "N=5\n",
    "\n",
    "# 行数算出　wcは行数とファイル名を出力するのでcutで行数のみ切り出し\n",
    "count=`wc -l hightemp.txt | awk '{print $1}'`\n",
    "\n",
    "unit=`expr $count / $N`\n",
    "rem=`expr $count % $N`\n",
    "\n",
    "if [ $rem -gt 0 ]; then\n",
    "    unit=`expr $unit + 1`\n",
    "fi\n",
    "\n",
    "split -l $unit hightemp.txt test16_"
   ]
  },
  {
   "cell_type": "code",
   "execution_count": null,
   "metadata": {},
   "outputs": [],
   "source": []
  },
  {
   "cell_type": "code",
   "execution_count": null,
   "metadata": {
    "collapsed": true
   },
   "outputs": [],
   "source": []
  }
 ],
 "metadata": {
  "kernelspec": {
   "display_name": "Python 3",
   "language": "python",
   "name": "python3"
  },
  "language_info": {
   "codemirror_mode": {
    "name": "ipython",
    "version": 3
   },
   "file_extension": ".py",
   "mimetype": "text/x-python",
   "name": "python",
   "nbconvert_exporter": "python",
   "pygments_lexer": "ipython3",
   "version": "3.6.5"
  }
 },
 "nbformat": 4,
 "nbformat_minor": 2
}

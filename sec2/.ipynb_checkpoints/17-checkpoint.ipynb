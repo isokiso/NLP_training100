{
 "cells": [
  {
   "cell_type": "markdown",
   "metadata": {},
   "source": [
    "1列目の文字列の種類（異なる文字列の集合）を求めよ．確認にはsort, uniqコマンドを用いよ．"
   ]
  },
  {
   "cell_type": "code",
   "execution_count": 1,
   "metadata": {},
   "outputs": [
    {
     "data": {
      "text/plain": [
       "{'千葉県',\n",
       " '和歌山県',\n",
       " '埼玉県',\n",
       " '大阪府',\n",
       " '山形県',\n",
       " '山梨県',\n",
       " '岐阜県',\n",
       " '愛媛県',\n",
       " '愛知県',\n",
       " '群馬県',\n",
       " '静岡県',\n",
       " '高知県'}"
      ]
     },
     "execution_count": 1,
     "metadata": {},
     "output_type": "execute_result"
    }
   ],
   "source": [
    "# -*- coding: utf-8 -*-\n",
    "import os\n",
    "import sys\n",
    "\n",
    "f = open('hightemp.txt')\n",
    "lines = f.read().splitlines()\n",
    "col1 = []\n",
    "for line in lines:\n",
    "    col1.append(line.split('\\t')[0])\n",
    "\n",
    "set(col1) #重複なくす"
   ]
  },
  {
   "cell_type": "code",
   "execution_count": null,
   "metadata": {
    "collapsed": true
   },
   "outputs": [],
   "source": []
  }
 ],
 "metadata": {
  "kernelspec": {
   "display_name": "Python 3",
   "language": "python",
   "name": "python3"
  },
  "language_info": {
   "codemirror_mode": {
    "name": "ipython",
    "version": 3
   },
   "file_extension": ".py",
   "mimetype": "text/x-python",
   "name": "python",
   "nbconvert_exporter": "python",
   "pygments_lexer": "ipython3",
   "version": "3.6.5"
  }
 },
 "nbformat": 4,
 "nbformat_minor": 2
}
